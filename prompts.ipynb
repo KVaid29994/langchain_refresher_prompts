{
 "cells": [
  {
   "cell_type": "markdown",
   "id": "e7022c6c",
   "metadata": {},
   "source": [
    "# 📜 Prompt Templates in LangChain\n",
    "\n",
    "## 🤔 What Are Prompt Templates?\n",
    "\n",
    "Prompt Templates are pre-defined structures for prompts used in LangChain to interact with Language Models (LLMs). They are part of the `langchain.prompts` module and are designed to handle **dynamic input insertion** cleanly and reliably.\n",
    "\n",
    "### 🔧 Example:\n",
    "\n",
    "```python\n",
    "from langchain.prompts import PromptTemplate\n",
    "\n",
    "template = PromptTemplate(\n",
    "    input_variables=[\"language\"],\n",
    "    template=\"Explain the benefits of using {language} for web development.\"\n",
    ")\n",
    "\n",
    "formatted = template.format(language=\"Python\")\n",
    "print(formatted)"
   ]
  },
  {
   "cell_type": "markdown",
   "id": "c443a73e",
   "metadata": {},
   "source": [
    "### 🧪 Why Not Just Use f-strings?"
   ]
  },
  {
   "cell_type": "markdown",
   "id": "1a725ef3",
   "metadata": {},
   "source": [
    "| Feature                             | f-string | PromptTemplate (LangChain)         |\n",
    "| ----------------------------------- | -------- | ---------------------------------- |\n",
    "| ✅ Easy to use                       | ✔️       | ✔️                                 |\n",
    "| 🧩 Modular and Reusable             | ❌        | ✔️                                 |\n",
    "| 🧠 Supports prompt formatting logic | ❌        | ✔️ (`Partial`, `Examples`, etc.)   |\n",
    "| 🔁 Dynamic chaining compatibility   | ❌        | ✔️ (used in LangChain Chains)      |\n",
    "| ✅ Clear variable declaration        | ❌        | ✔️ (`input_variables` are defined) |\n",
    "| 🧱 Integration with LangChain stack | ❌        | ✔️ Seamlessly integrates           |\n"
   ]
  },
  {
   "cell_type": "markdown",
   "id": "3620685b",
   "metadata": {},
   "source": [
    "\n",
    "\n",
    "🛠️ Benefits of Using PromptTemplate\n",
    "🔍 Explicit input variables: No silent errors due to undefined vars\n",
    "\n",
    "♻️ Reusable and cleaner prompts across chains\n",
    "\n",
    "📦 Composable in chains and agents\n",
    "\n",
    "🧪 Supports advanced techniques like few-shot prompting and partial templates\n",
    "\n",
    "🧰 Better debugging and prompt management in large projects\n",
    "\n"
   ]
  },
  {
   "cell_type": "markdown",
   "id": "326e8721",
   "metadata": {},
   "source": [
    "## 💬 Types of Messages in LangChain\n",
    "LangChain uses a structured message system to simulate and manage conversations more precisely. This is especially useful when interacting with chat-based LLMs like OpenAI's gpt-4, Claude, or LLaMA models through LangChain.\n",
    "\n",
    "LangChain provides these core message types:"
   ]
  },
  {
   "cell_type": "markdown",
   "id": "563ecb35",
   "metadata": {},
   "source": [
    "🛠️ 1. SystemMessage\n",
    "✅ Purpose:\n",
    "Used to set behavior, tone, or context for the assistant. It’s usually the first message in the conversation.\n",
    "\n",
    "🧪 Example\n",
    "\n",
    "from langchain.schema import SystemMessage\n",
    "\n",
    "SystemMessage(content=\"You are a helpful assistant that speaks in Shakespearean English.\")\n"
   ]
  },
  {
   "cell_type": "markdown",
   "id": "d2144e02",
   "metadata": {},
   "source": [
    "👤 2. HumanMessage\n",
    "✅ Purpose:\n",
    "Represents input from the user. It mimics what a human would say in a real conversation.\n",
    "\n",
    "🧪 Example:\n",
    "\n",
    "from langchain.schema import HumanMessage\n",
    "\n",
    "HumanMessage(content=\"Can you tell me the weather in New York?\")"
   ]
  },
  {
   "cell_type": "markdown",
   "id": "41a519b5",
   "metadata": {},
   "source": [
    "🤖 3. AIMessage\n",
    "✅ Purpose:\n",
    "This is the response from the AI model after processing the prompt and conversation history.\n",
    "\n",
    "🧪 Example:\n",
    "\n",
    "from langchain.schema import AIMessage\n",
    "\n",
    "AIMessage(content=\"Sure, today’s weather in New York is sunny with a high of 75°F.\")\n"
   ]
  },
  {
   "cell_type": "markdown",
   "id": "18d288c8",
   "metadata": {},
   "source": [
    "## 🧠 Why Use Structured Messages?\n"
   ]
  },
  {
   "cell_type": "markdown",
   "id": "2f78387e",
   "metadata": {},
   "source": [
    "| Benefit                  | Description                                                                                |\n",
    "| ------------------------ | ------------------------------------------------------------------------------------------ |\n",
    "| ✅ **Role Clarity**       | Helps the model distinguish between system instructions, user input, and prior AI outputs. |\n",
    "| 🧩 **Memory Management** | Makes it easier to handle and track conversations across multiple turns.                   |\n",
    "| 🔄 **Consistency**       | Ideal for multi-turn conversations, chatbots, and agents.                                  |\n"
   ]
  },
  {
   "cell_type": "markdown",
   "id": "76b12386",
   "metadata": {},
   "source": [
    "# Message Placeholders in LangChain\n",
    "\n",
    "LangChain provides a flexible way to manage and format messages using placeholders. This allows for dynamic content generation in conversational AI applications.\n",
    "\n",
    "## Key Concepts\n",
    "\n",
    "### 1. **Message Templates**\n",
    "Message templates allow you to define the structure of your messages with placeholders that can be filled with dynamic data.\n",
    "\n",
    "### 2. **Placeholders**\n",
    "Placeholders are represented by curly braces `{}`. You can use them to insert variables or values into your messages.\n",
    "\n",
    "### 3. **Example Usage**\n",
    "\n",
    "Here’s a simple example of how to use message placeholders in LangChain:\n",
    "\n",
    "```python\n",
    "from langchain import Message\n",
    "\n",
    "# Define a message template\n",
    "template = \"Hello, {name}! Welcome to LangChain.\"\n",
    "\n",
    "# Create a message with a placeholder\n",
    "message = Message(template=template)\n",
    "\n",
    "# Fill in the placeholder\n",
    "filled_message = message.fill(name=\"Alice\")\n",
    "\n",
    "print(filled_message)  # Output: Hello, Alice! Welcome to LangChain.\n"
   ]
  },
  {
   "cell_type": "markdown",
   "id": "20ac0569",
   "metadata": {},
   "source": []
  }
 ],
 "metadata": {
  "language_info": {
   "name": "python"
  }
 },
 "nbformat": 4,
 "nbformat_minor": 5
}
